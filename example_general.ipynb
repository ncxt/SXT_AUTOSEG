{
 "cells": [
  {
   "cell_type": "code",
   "execution_count": 4,
   "metadata": {
    "ExecuteTime": {
     "end_time": "2024-10-31T10:38:56.887341Z",
     "start_time": "2024-10-31T10:38:56.667617Z"
    }
   },
   "outputs": [
    {
     "name": "stdout",
     "output_type": "stream",
     "text": [
      "The autoreload extension is already loaded. To reload it, use:\n",
      "  %reload_ext autoreload\n"
     ]
    }
   ],
   "source": [
    "%load_ext autoreload\n",
    "%autoreload 2\n",
    "%matplotlib inline\n",
    "import numpy as np\n",
    "import ncxt_autoseg "
   ]
  },
  {
   "cell_type": "markdown",
   "metadata": {},
   "source": [
    "## Loaders\n",
    "The loader acts as the link between the annotated SXT data and the task in hand. The loader transforms both the LAC (e.g., normalization) of the image and the annotated mask (material values) to a common format and wraps everything into an iterable class.\n",
    "\n",
    "Loaders can be extended to include more that one channel fo input data."
   ]
  },
  {
   "cell_type": "code",
   "execution_count": 10,
   "metadata": {
    "ExecuteTime": {
     "end_time": "2024-10-31T10:40:04.399736Z",
     "start_time": "2024-10-31T10:40:04.180935Z"
    }
   },
   "outputs": [
    {
     "name": "stdout",
     "output_type": "stream",
     "text": [
      "Loader is an iterable class of samples.\n",
      "Each sample contains:\n",
      "\n",
      "input (1, 32, 32, 32)\n",
      "target (32, 32, 32)\n",
      "key {'material_0': 0, 'material_1': 1, 'material_2': 2}\n"
     ]
    }
   ],
   "source": [
    "from ncxt_autoseg.sxtcnn.loaders import MockLoader\n",
    "loader = MockLoader(shape=(32, 32, 32), out_channels=3, length=3)\n",
    "\n",
    "print(\"Loader is an iterable class of samples.\\nEach sample contains:\\n\")\n",
    "item = loader[0]\n",
    "for k,v in item.items():\n",
    "    if isinstance(item[k], np.ndarray):\n",
    "        print(k, v.shape)\n",
    "    else:\n",
    "        print(k,v)"
   ]
  },
  {
   "cell_type": "markdown",
   "metadata": {},
   "source": [
    "The loader feeds of an argument database, so that thte __getitem__ loads the actual data\n",
    "``` python\n",
    "def __getitem__(self, index):\n",
    "        record = self.db[index]\n",
    "        lac = read_mrc(record[\"data\"])\n",
    "        label = read_mrc(record[\"annotation\"])\n",
    "```"
   ]
  },
  {
   "cell_type": "markdown",
   "metadata": {},
   "source": [
    "For use on new data, it's convenient to define e.g.\n",
    "``` python\n",
    "def __call__(self, data):\n",
    "        retval = self.required_pre_processing_of_the_data(data)    \n",
    "        return retval.reshape(1, *retval.shape)\n",
    "```\n",
    "The CNN eats 4d arrays, where the first dimension is the number of channels.\n",
    "For pure LAC, we reshape it onto (1,*shape)"
   ]
  },
  {
   "cell_type": "markdown",
   "metadata": {},
   "source": [
    "## Processor\n",
    "Processors act as the intermediate dataflow from the whole samples into processable blocks.\n",
    "\n",
    "to conform to a common standard, derive class from the ABC\n",
    "DataProcessor, which contains three abstarc methods:\n",
    " - forward(self,data) -- from data to network intput \n",
    " - backward(self, data) -- from network output to processed volume\n",
    " - init_data(*args)  -- Because of memory limitations, we initialize the train and test data to a temporary working directory. Init_data handles the serialization of this data.\n"
   ]
  },
  {
   "cell_type": "code",
   "execution_count": 14,
   "metadata": {
    "ExecuteTime": {
     "end_time": "2024-10-31T10:41:45.287096Z",
     "start_time": "2024-10-31T10:41:45.052250Z"
    }
   },
   "outputs": [],
   "source": [
    "processor = ncxt_autoseg.processors.RandomBlockProcessor(\n",
    "    block_shape=(8,8,8), \n",
    "    binning=2)"
   ]
  },
  {
   "cell_type": "markdown",
   "metadata": {},
   "source": [
    "## Model\n",
    "The models are derived from torch.nn.Module"
   ]
  },
  {
   "cell_type": "code",
   "execution_count": 16,
   "metadata": {
    "ExecuteTime": {
     "end_time": "2024-10-31T10:41:50.782953Z",
     "start_time": "2024-10-31T10:41:50.450502Z"
    }
   },
   "outputs": [
    {
     "name": "stdout",
     "output_type": "stream",
     "text": [
      "----------------------------------------------------------------\n",
      "        Layer (type)               Output Shape         Param #\n",
      "================================================================\n",
      "            Conv3d-1          [-1, 32, 8, 8, 8]             896\n",
      "         ConvBlock-2          [-1, 32, 8, 8, 8]               0\n",
      "            Conv3d-3          [-1, 32, 8, 8, 8]          27,680\n",
      "         ConvBlock-4          [-1, 32, 8, 8, 8]               0\n",
      "         MaxPool3d-5          [-1, 32, 4, 4, 4]               0\n",
      "          DownConv-6  [[-1, 32, 4, 4, 4], [-1, 32, 8, 8, 8]]               0\n",
      "            Conv3d-7          [-1, 64, 4, 4, 4]          55,360\n",
      "         ConvBlock-8          [-1, 64, 4, 4, 4]               0\n",
      "            Conv3d-9          [-1, 64, 4, 4, 4]         110,656\n",
      "        ConvBlock-10          [-1, 64, 4, 4, 4]               0\n",
      "        MaxPool3d-11          [-1, 64, 2, 2, 2]               0\n",
      "         DownConv-12  [[-1, 64, 2, 2, 2], [-1, 64, 4, 4, 4]]               0\n",
      "           Conv3d-13         [-1, 128, 2, 2, 2]         221,312\n",
      "        ConvBlock-14         [-1, 128, 2, 2, 2]               0\n",
      "           Conv3d-15         [-1, 128, 2, 2, 2]         442,496\n",
      "        ConvBlock-16         [-1, 128, 2, 2, 2]               0\n",
      "         DownConv-17  [[-1, 128, 2, 2, 2], [-1, 128, 2, 2, 2]]               0\n",
      "  ConvTranspose3d-18          [-1, 64, 4, 4, 4]          65,600\n",
      "           Conv3d-19          [-1, 64, 4, 4, 4]         221,248\n",
      "        ConvBlock-20          [-1, 64, 4, 4, 4]               0\n",
      "           Conv3d-21          [-1, 64, 4, 4, 4]         110,656\n",
      "        ConvBlock-22          [-1, 64, 4, 4, 4]               0\n",
      "           UpConv-23          [-1, 64, 4, 4, 4]               0\n",
      "  ConvTranspose3d-24          [-1, 32, 8, 8, 8]          16,416\n",
      "           Conv3d-25          [-1, 32, 8, 8, 8]          55,328\n",
      "        ConvBlock-26          [-1, 32, 8, 8, 8]               0\n",
      "           Conv3d-27          [-1, 32, 8, 8, 8]          27,680\n",
      "        ConvBlock-28          [-1, 32, 8, 8, 8]               0\n",
      "           UpConv-29          [-1, 32, 8, 8, 8]               0\n",
      "           Conv3d-30           [-1, 3, 8, 8, 8]              99\n",
      "================================================================\n",
      "Total size: 238,080\n",
      "Total params: 1,355,427\n",
      "Trainable params: 1,355,427\n",
      "Non-trainable params: 0\n",
      "Input size: 512\n",
      "params size: 1355427\n",
      "Internal size: 476160\n",
      "Input size: 2.0 KB\n",
      "Params size: 5.17 MB\n",
      "Total size: 6.99 MB\n",
      "----------------------------------------------------------------\n"
     ]
    }
   ],
   "source": [
    "model = ncxt_autoseg.sxtcnn.models.UNet3D(3)\n",
    "model.summary((1,8,8,8))"
   ]
  },
  {
   "cell_type": "markdown",
   "metadata": {},
   "source": [
    "### Criterion"
   ]
  },
  {
   "cell_type": "code",
   "execution_count": 22,
   "metadata": {
    "ExecuteTime": {
     "end_time": "2024-10-31T10:44:35.974289Z",
     "start_time": "2024-10-31T10:44:35.757238Z"
    }
   },
   "outputs": [],
   "source": [
    "lossfunc = ncxt_autoseg.criteria.DiceLoss()"
   ]
  },
  {
   "cell_type": "markdown",
   "metadata": {},
   "source": [
    "## Wrap it up!"
   ]
  },
  {
   "cell_type": "code",
   "execution_count": 25,
   "metadata": {
    "ExecuteTime": {
     "end_time": "2024-10-31T10:45:16.051441Z",
     "start_time": "2024-10-31T10:45:15.728761Z"
    }
   },
   "outputs": [],
   "source": [
    "params = {\n",
    "    \"device\": \"cpu\",\n",
    "    \"working_directory\": '__tempwd__/',\n",
    "}\n",
    "seg = ncxt_autoseg.sxtcnn.SXTCNN(\n",
    "    loader, processor,model,lossfunc, **params)\n",
    "\n",
    "seg.init_data(train_idx=[0,1], valid_idx=[2,])\n",
    "# calls the assigned processors init_data() method\n",
    "# and stores the test and training data in the working directory"
   ]
  },
  {
   "cell_type": "code",
   "execution_count": null,
   "metadata": {
    "ExecuteTime": {
     "end_time": "2024-10-31T10:47:19.242687Z",
     "start_time": "2024-10-31T10:45:16.847724Z"
    }
   },
   "outputs": [],
   "source": [
    "seg.run()"
   ]
  },
  {
   "cell_type": "code",
   "execution_count": 27,
   "metadata": {
    "ExecuteTime": {
     "end_time": "2024-10-31T10:47:32.276975Z",
     "start_time": "2024-10-31T10:47:31.513358Z"
    }
   },
   "outputs": [
    {
     "data": {
      "image/png": "[encoded data removed]",
      "text/plain": [
       "<Figure size 1300x500 with 3 Axes>"
      ]
     },
     "metadata": {},
     "output_type": "display_data"
    }
   ],
   "source": [
    "seg.logger.plot()"
   ]
  },
  {
   "cell_type": "markdown",
   "metadata": {},
   "source": [
    "## Input of raw (unseen) images\n",
    "Default forward and backward method for Processors (as for RandomBlockProcessor)\n",
    "is a sligntly overlapping split into sub-blocks.\n",
    "\n",
    "As the segmentation is done via extracted and fused sub-blocks of data, \n",
    "the input does not have to be of any specific size."
   ]
  },
  {
   "cell_type": "code",
   "execution_count": 29,
   "metadata": {
    "ExecuteTime": {
     "end_time": "2024-10-31T10:48:48.437366Z",
     "start_time": "2024-10-31T10:48:48.177918Z"
    }
   },
   "outputs": [],
   "source": [
    "test_data = np.random.random((31,32,21))\n",
    "input_data  = loader(test_data)\n",
    "output_data = seg.model_prediction(input_data)"
   ]
  },
  {
   "cell_type": "code",
   "execution_count": null,
   "metadata": {},
   "outputs": [],
   "source": []
  }
 ],
 "metadata": {
  "kernelspec": {
   "display_name": "Python 3 (ipykernel)",
   "language": "python",
   "name": "python3"
  },
  "language_info": {
   "codemirror_mode": {
    "name": "ipython",
    "version": 3
   },
   "file_extension": ".py",
   "mimetype": "text/x-python",
   "name": "python",
   "nbconvert_exporter": "python",
   "pygments_lexer": "ipython3",
   "version": "3.10.8"
  },
  "toc": {
   "nav_menu": {},
   "number_sections": true,
   "sideBar": true,
   "skip_h1_title": false,
   "toc_cell": false,
   "toc_position": {},
   "toc_section_display": "block",
   "toc_window_display": false
  }
 },
 "nbformat": 4,
 "nbformat_minor": 2
}
