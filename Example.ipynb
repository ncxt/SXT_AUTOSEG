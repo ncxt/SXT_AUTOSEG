{
 "cells": [
  {
   "cell_type": "code",
   "execution_count": 1,
   "id": "bb8c4764",
   "metadata": {
    "ExecuteTime": {
     "end_time": "2024-10-31T10:35:24.150154Z",
     "start_time": "2024-10-31T10:35:23.379149Z"
    }
   },
   "outputs": [],
   "source": [
    "%load_ext autoreload\n",
    "%autoreload 2\n",
    "%matplotlib inline\n",
    "from pathlib import Path"
   ]
  },
  {
   "cell_type": "markdown",
   "id": "11935dd2",
   "metadata": {},
   "source": [
    "Link to the trained weights and example data\n",
    "http://gofile.me/6XMqh/IwGyeV5Fh"
   ]
  },
  {
   "cell_type": "code",
   "execution_count": 2,
   "id": "dde1aa95",
   "metadata": {
    "ExecuteTime": {
     "end_time": "2024-10-31T10:35:24.245605Z",
     "start_time": "2024-10-31T10:35:24.152703Z"
    }
   },
   "outputs": [],
   "source": [
    "# Set path to the data folders\n",
    "data = Path(\"example_data/\")\n",
    "models = Path(\"trained_models/\")"
   ]
  },
  {
   "cell_type": "code",
   "execution_count": null,
   "id": "5c1c4a16",
   "metadata": {},
   "outputs": [],
   "source": []
  },
  {
   "cell_type": "code",
   "execution_count": 3,
   "id": "6edfe904",
   "metadata": {
    "ExecuteTime": {
     "end_time": "2024-10-31T10:35:32.809815Z",
     "start_time": "2024-10-31T10:35:27.409440Z"
    }
   },
   "outputs": [
    {
     "name": "stderr",
     "output_type": "stream",
     "text": [
      "C:\\Users\\axela\\AppData\\Local\\miniconda3\\envs\\parc-env\\lib\\site-packages\\fuzzywuzzy\\fuzz.py:11: UserWarning: Using slow pure-python SequenceMatcher. Install python-Levenshtein to remove this warning\n",
      "  warnings.warn('Using slow pure-python SequenceMatcher. Install python-Levenshtein to remove this warning')\n"
     ]
    }
   ],
   "source": [
    "import ncxt_autoseg\n",
    "from ncxt_autoseg.pipe import NCXTPipe\n",
    "from ncxt_autoseg.sxtcnn.criteria import CrossEntropyLoss_DiceLoss"
   ]
  },
  {
   "cell_type": "code",
   "execution_count": 6,
   "id": "2b4b3c6d",
   "metadata": {
    "ExecuteTime": {
     "end_time": "2024-10-31T10:36:43.936526Z",
     "start_time": "2024-10-31T10:36:41.912665Z"
    }
   },
   "outputs": [
    {
     "name": "stdout",
     "output_type": "stream",
     "text": [
      "Files 1 + 0\n"
     ]
    }
   ],
   "source": [
    "wd = \"__tempwd__/\" #path to the working directopry to save cached fiules and weights\n",
    "# we are not saving anythign here, so this doesn't matter\n",
    "disjoint_folder = data #path to data directory with /hx files\n",
    "\n",
    "# parameters Used\n",
    "organelles = [\"cell\", \"lipid\", \"nucleus\", \"vacuole\"]\n",
    "model_args = {\"instancenorm\": True, \"depth\": 5, \"start_filts\": 64}\n",
    "loader_args = {\"working_directory\": None}\n",
    "processor_args = {\"block_shape\": [96, 96, 96], \"binning\": 2, \"n_blocks\": 2}\n",
    "settings = {\n",
    "    \"maximum_iterations\": 1000,\n",
    "    \"max_batch_size\": 2,\n",
    "    \"augment_elastic\": 5,\n",
    "    \"augment_linear\": 0.5,\n",
    "}\n",
    "pipe = NCXTPipe(\n",
    "    folder=disjoint_folder,\n",
    "    working_directory=wd,\n",
    "    organelles=organelles,\n",
    "    fold=3,\n",
    "    criterion=CrossEntropyLoss_DiceLoss,\n",
    "    processor_args=processor_args,\n",
    "    model_args=model_args,\n",
    "    loader_args=loader_args,\n",
    "    settings=settings,\n",
    "    cached_loader=False,\n",
    ")\n",
    "pipe.setup()"
   ]
  },
  {
   "cell_type": "markdown",
   "id": "0390c557",
   "metadata": {},
   "source": [
    "### Examples\n",
    "Example of results with pretrained weights"
   ]
  },
  {
   "cell_type": "code",
   "execution_count": null,
   "id": "25e48501",
   "metadata": {
    "ExecuteTime": {
     "end_time": "2024-10-31T10:35:33.205853Z",
     "start_time": "2024-10-31T10:35:33.205853Z"
    }
   },
   "outputs": [],
   "source": [
    "import torch\n",
    "def load_from(self, base):\n",
    "    file_state = base / f\"{self._model_hash}_state.npy\"\n",
    "    file_weights_best = base / f\"{self._model_hash}_best.weights\"\n",
    "    self.load_state_dict(np.load(file_state, allow_pickle=True).item())\n",
    "    print(f\"Loading state {self.epoch} with best weights\")    \n",
    "    self.model.load_state_dict(torch.load(file_weights_best,map_location='cuda:0'))\n",
    "\n",
    "# These folders correspond to the (automatically generated) data hashes of the k-fold filenames\n",
    "# and are the three instances of the k-fold training\n",
    "base = models/\"data56390\"\n",
    "# base = models/\"data57777\"\n",
    "# base = models/\"data65444\"\n",
    "\n",
    "sxtcnn = pipe.sxtcnn\n",
    "load_from(sxtcnn, base)\n",
    "sxtcnn.logger.plot()"
   ]
  },
  {
   "cell_type": "code",
   "execution_count": null,
   "id": "343495be",
   "metadata": {
    "ExecuteTime": {
     "end_time": "2024-10-31T10:35:33.208853Z",
     "start_time": "2024-10-31T10:35:33.208853Z"
    }
   },
   "outputs": [],
   "source": [
    "sxtcnn.evaluate_sample(0, plot=True)"
   ]
  },
  {
   "cell_type": "code",
   "execution_count": null,
   "id": "5bf65061",
   "metadata": {},
   "outputs": [],
   "source": []
  }
 ],
 "metadata": {
  "kernelspec": {
   "display_name": "Python 3 (ipykernel)",
   "language": "python",
   "name": "python3"
  },
  "language_info": {
   "codemirror_mode": {
    "name": "ipython",
    "version": 3
   },
   "file_extension": ".py",
   "mimetype": "text/x-python",
   "name": "python",
   "nbconvert_exporter": "python",
   "pygments_lexer": "ipython3",
   "version": "3.10.8"
  }
 },
 "nbformat": 4,
 "nbformat_minor": 5
}
