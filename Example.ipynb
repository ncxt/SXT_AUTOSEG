{
 "cells": [
  {
   "cell_type": "code",
   "execution_count": 7,
   "id": "bb8c4764",
   "metadata": {
    "ExecuteTime": {
     "end_time": "2024-10-31T10:51:37.472079Z",
     "start_time": "2024-10-31T10:51:36.891250Z"
    }
   },
   "outputs": [
    {
     "name": "stdout",
     "output_type": "stream",
     "text": [
      "The autoreload extension is already loaded. To reload it, use:\n",
      "  %reload_ext autoreload\n"
     ]
    }
   ],
   "source": [
    "%load_ext autoreload\n",
    "%autoreload 2\n",
    "%matplotlib inline\n",
    "from pathlib import Path\n",
    "import numpy as np"
   ]
  },
  {
   "cell_type": "markdown",
   "id": "11935dd2",
   "metadata": {},
   "source": [
    "Link to the trained weights and example data\n",
    "http://gofile.me/6XMqh/IwGyeV5Fh"
   ]
  },
  {
   "cell_type": "code",
   "execution_count": 8,
   "id": "dde1aa95",
   "metadata": {
    "ExecuteTime": {
     "end_time": "2024-10-31T10:51:37.738775Z",
     "start_time": "2024-10-31T10:51:37.477599Z"
    }
   },
   "outputs": [],
   "source": [
    "# Set path to the data folders\n",
    "data = Path(\"example_data/\")\n",
    "models = Path(\"trained_models/\")"
   ]
  },
  {
   "cell_type": "code",
   "execution_count": null,
   "id": "5c1c4a16",
   "metadata": {},
   "outputs": [],
   "source": []
  },
  {
   "cell_type": "code",
   "execution_count": 9,
   "id": "6edfe904",
   "metadata": {
    "ExecuteTime": {
     "end_time": "2024-10-31T10:51:37.992416Z",
     "start_time": "2024-10-31T10:51:37.743793Z"
    }
   },
   "outputs": [],
   "source": [
    "import ncxt_autoseg\n",
    "from ncxt_autoseg.pipe import NCXTPipe\n",
    "from ncxt_autoseg.sxtcnn.criteria import CrossEntropyLoss_DiceLoss"
   ]
  },
  {
   "cell_type": "code",
   "execution_count": 10,
   "id": "2b4b3c6d",
   "metadata": {
    "ExecuteTime": {
     "end_time": "2024-10-31T10:51:40.115334Z",
     "start_time": "2024-10-31T10:51:37.995414Z"
    }
   },
   "outputs": [
    {
     "name": "stdout",
     "output_type": "stream",
     "text": [
      "Files 1 + 0\n"
     ]
    }
   ],
   "source": [
    "wd = \"__tempwd__/\" #path to the working directopry to save cached fiules and weights\n",
    "# we are not saving anythign here, so this doesn't matter\n",
    "disjoint_folder = data #path to data directory with /hx files\n",
    "\n",
    "# parameters Used\n",
    "organelles = [\"cell\", \"lipid\", \"nucleus\", \"vacuole\"]\n",
    "model_args = {\"instancenorm\": True, \"depth\": 5, \"start_filts\": 64}\n",
    "loader_args = {\"working_directory\": None}\n",
    "processor_args = {\"block_shape\": [96, 96, 96], \"binning\": 2, \"n_blocks\": 2}\n",
    "settings = {\n",
    "    \"maximum_iterations\": 1000,\n",
    "    \"max_batch_size\": 2,\n",
    "    \"augment_elastic\": 5,\n",
    "    \"augment_linear\": 0.5,\n",
    "}\n",
    "pipe = NCXTPipe(\n",
    "    folder=disjoint_folder,\n",
    "    working_directory=wd,\n",
    "    organelles=organelles,\n",
    "    fold=3,\n",
    "    criterion=CrossEntropyLoss_DiceLoss,\n",
    "    processor_args=processor_args,\n",
    "    model_args=model_args,\n",
    "    loader_args=loader_args,\n",
    "    settings=settings,\n",
    "    cached_loader=False,\n",
    ")\n",
    "pipe.setup()"
   ]
  },
  {
   "cell_type": "markdown",
   "id": "0390c557",
   "metadata": {},
   "source": [
    "### Examples\n",
    "Example of results with pretrained weights"
   ]
  },
  {
   "cell_type": "code",
   "execution_count": 11,
   "id": "25e48501",
   "metadata": {
    "ExecuteTime": {
     "end_time": "2024-10-31T10:51:40.490660Z",
     "start_time": "2024-10-31T10:51:40.121860Z"
    }
   },
   "outputs": [
    {
     "ename": "NameError",
     "evalue": "name 'np' is not defined",
     "output_type": "error",
     "traceback": [
      "\u001b[1;31m---------------------------------------------------------------------------\u001b[0m",
      "\u001b[1;31mNameError\u001b[0m                                 Traceback (most recent call last)",
      "Cell \u001b[1;32mIn[11], line 16\u001b[0m\n\u001b[0;32m     12\u001b[0m \u001b[38;5;66;03m# base = models/\"data57777\"\u001b[39;00m\n\u001b[0;32m     13\u001b[0m \u001b[38;5;66;03m# base = models/\"data65444\"\u001b[39;00m\n\u001b[0;32m     15\u001b[0m sxtcnn \u001b[38;5;241m=\u001b[39m pipe\u001b[38;5;241m.\u001b[39msxtcnn\n\u001b[1;32m---> 16\u001b[0m \u001b[43mload_from\u001b[49m\u001b[43m(\u001b[49m\u001b[43msxtcnn\u001b[49m\u001b[43m,\u001b[49m\u001b[43m \u001b[49m\u001b[43mbase\u001b[49m\u001b[43m)\u001b[49m\n\u001b[0;32m     17\u001b[0m sxtcnn\u001b[38;5;241m.\u001b[39mlogger\u001b[38;5;241m.\u001b[39mplot()\n",
      "Cell \u001b[1;32mIn[11], line 5\u001b[0m, in \u001b[0;36mload_from\u001b[1;34m(self, base)\u001b[0m\n\u001b[0;32m      3\u001b[0m file_state \u001b[38;5;241m=\u001b[39m base \u001b[38;5;241m/\u001b[39m \u001b[38;5;124mf\u001b[39m\u001b[38;5;124m\"\u001b[39m\u001b[38;5;132;01m{\u001b[39;00m\u001b[38;5;28mself\u001b[39m\u001b[38;5;241m.\u001b[39m_model_hash\u001b[38;5;132;01m}\u001b[39;00m\u001b[38;5;124m_state.npy\u001b[39m\u001b[38;5;124m\"\u001b[39m\n\u001b[0;32m      4\u001b[0m file_weights_best \u001b[38;5;241m=\u001b[39m base \u001b[38;5;241m/\u001b[39m \u001b[38;5;124mf\u001b[39m\u001b[38;5;124m\"\u001b[39m\u001b[38;5;132;01m{\u001b[39;00m\u001b[38;5;28mself\u001b[39m\u001b[38;5;241m.\u001b[39m_model_hash\u001b[38;5;132;01m}\u001b[39;00m\u001b[38;5;124m_best.weights\u001b[39m\u001b[38;5;124m\"\u001b[39m\n\u001b[1;32m----> 5\u001b[0m \u001b[38;5;28mself\u001b[39m\u001b[38;5;241m.\u001b[39mload_state_dict(\u001b[43mnp\u001b[49m\u001b[38;5;241m.\u001b[39mload(file_state, allow_pickle\u001b[38;5;241m=\u001b[39m\u001b[38;5;28;01mTrue\u001b[39;00m)\u001b[38;5;241m.\u001b[39mitem())\n\u001b[0;32m      6\u001b[0m \u001b[38;5;28mprint\u001b[39m(\u001b[38;5;124mf\u001b[39m\u001b[38;5;124m\"\u001b[39m\u001b[38;5;124mLoading state \u001b[39m\u001b[38;5;132;01m{\u001b[39;00m\u001b[38;5;28mself\u001b[39m\u001b[38;5;241m.\u001b[39mepoch\u001b[38;5;132;01m}\u001b[39;00m\u001b[38;5;124m with best weights\u001b[39m\u001b[38;5;124m\"\u001b[39m)    \n\u001b[0;32m      7\u001b[0m \u001b[38;5;28mself\u001b[39m\u001b[38;5;241m.\u001b[39mmodel\u001b[38;5;241m.\u001b[39mload_state_dict(torch\u001b[38;5;241m.\u001b[39mload(file_weights_best,map_location\u001b[38;5;241m=\u001b[39m\u001b[38;5;124m'\u001b[39m\u001b[38;5;124mcuda:0\u001b[39m\u001b[38;5;124m'\u001b[39m))\n",
      "\u001b[1;31mNameError\u001b[0m: name 'np' is not defined"
     ]
    }
   ],
   "source": [
    "import torch\n",
    "def load_from(self, base):\n",
    "    file_state = base / f\"{self._model_hash}_state.npy\"\n",
    "    file_weights_best = base / f\"{self._model_hash}_best.weights\"\n",
    "    self.load_state_dict(np.load(file_state, allow_pickle=True).item())\n",
    "    print(f\"Loading state {self.epoch} with best weights\")    \n",
    "    self.model.load_state_dict(torch.load(file_weights_best,map_location='cuda:0'))\n",
    "\n",
    "# These folders correspond to the (automatically generated) data hashes of the k-fold filenames\n",
    "# and are the three instances of the k-fold training\n",
    "base = models/\"data56390\"\n",
    "# base = models/\"data57777\"\n",
    "# base = models/\"data65444\"\n",
    "\n",
    "sxtcnn = pipe.sxtcnn\n",
    "load_from(sxtcnn, base)\n",
    "sxtcnn.logger.plot()"
   ]
  },
  {
   "cell_type": "code",
   "execution_count": null,
   "id": "343495be",
   "metadata": {
    "ExecuteTime": {
     "end_time": "2024-10-31T10:51:40.494669Z",
     "start_time": "2024-10-31T10:51:40.494669Z"
    }
   },
   "outputs": [],
   "source": [
    "sxtcnn.evaluate_sample(0, plot=True)"
   ]
  },
  {
   "cell_type": "code",
   "execution_count": null,
   "id": "8f21fa61",
   "metadata": {},
   "outputs": [],
   "source": []
  }
 ],
 "metadata": {
  "kernelspec": {
   "display_name": "Python 3 (ipykernel)",
   "language": "python",
   "name": "python3"
  },
  "language_info": {
   "codemirror_mode": {
    "name": "ipython",
    "version": 3
   },
   "file_extension": ".py",
   "mimetype": "text/x-python",
   "name": "python",
   "nbconvert_exporter": "python",
   "pygments_lexer": "ipython3",
   "version": "3.10.8"
  }
 },
 "nbformat": 4,
 "nbformat_minor": 5
}
